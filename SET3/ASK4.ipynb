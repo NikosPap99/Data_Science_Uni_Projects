{
 "cells": [
  {
   "cell_type": "markdown",
   "metadata": {},
   "source": [
    "<h2><u>EXERCISE 4</u></h2>"
   ]
  },
  {
   "cell_type": "code",
   "execution_count": 2,
   "metadata": {
    "scrolled": false
   },
   "outputs": [],
   "source": [
    "import numpy as np\n",
    "import json\n",
    "import ijson # library used for reading the file one line at a time, because we can't load the whole file in memory\n",
    "\n",
    "\n",
    "f1 = open('yelp_academic_dataset_business.json', encoding = \"utf8\")\n",
    "\n",
    "torontoID = [] # Toronto businesses id's\n",
    "businessReviewers = {} # mapping each toronto business id to its reviewer id's\n",
    "\n",
    "for line in f1.readlines():\n",
    "    dictionary = json.loads(line)\n",
    "    if((dictionary['city'] == 'Toronto') and (dictionary['review_count'] >= 50)): # requirements\n",
    "        torontoID.append(dictionary[\"business_id\"])\n",
    "\n",
    "torontoID = np.array(torontoID) \n",
    "\n",
    "usersID = [] # a list of all user id's\n",
    "users_with_reviews = [] # stores the user id and a dictionary which stores the businesses he has rated and the ratings themselves\n",
    "\n",
    "with open('yelp_academic_dataset_review.json', 'r', encoding = \"UTF-8\") as f:\n",
    "    parser = ijson.parse(f, multiple_values = True)\n",
    "    business_id = \"\"\n",
    "    user_id = \"\"\n",
    "    user_already_encountered = False\n",
    "    businessInToronto = False # only if the business is in Toronto do we care about the rating\n",
    "    \n",
    "    for prefix, event, value in parser:\n",
    "        if(prefix == \"user_id\"):\n",
    "            user_id = value    \n",
    "        elif(prefix == \"business_id\"):\n",
    "            business_id = value\n",
    "\n",
    "            if(business_id in torontoID):\n",
    "                 businessInToronto = True\n",
    "            else:\n",
    "                businessInToronto = False\n",
    "        elif(prefix == \"stars\"):\n",
    "            if(businessInToronto == True):\n",
    "                if(user_id in usersID):\n",
    "                    user_already_encountered = True\n",
    "                else:\n",
    "                    user_already_encountered = False\n",
    "                    usersID.append(user_id)\n",
    "\n",
    "                if(user_already_encountered == True):\n",
    "                    for element in users_with_reviews:\n",
    "                        if(element[\"user_id\"] == user_id):\n",
    "                            element[\"businesses\"][business_id] = value\n",
    "                            break\n",
    "                else:\n",
    "                    user_with_reviews = {\"user_id\": user_id, \"businesses\": {business_id: value}}\n",
    "                    users_with_reviews.append(user_with_reviews)\n",
    "                    \n",
    "                if(business_id in businessReviewers.keys()):\n",
    "                    businessReviewers[business_id].append(user_id)\n",
    "                else:\n",
    "                    businessReviewers[business_id] = [user_id]\n",
    "        "
   ]
  },
  {
   "cell_type": "markdown",
   "metadata": {},
   "source": [
    "Below I count how many businesses and users don't meet the requirements to join sets B and U respectively."
   ]
  },
  {
   "cell_type": "code",
   "execution_count": 3,
   "metadata": {
    "scrolled": false
   },
   "outputs": [
    {
     "name": "stdout",
     "output_type": "stream",
     "text": [
      "Users with inadequate reviews: 94512\n",
      "Total users: 97511\n",
      "Businesses with inadequate reviewers: 0\n",
      "Total businesses: 2846\n"
     ]
    }
   ],
   "source": [
    "users_with_inadequate_reviews_counter = 0\n",
    "\n",
    "for i in range(len(users_with_reviews)):\n",
    "    if(len(list(users_with_reviews[i][\"businesses\"].keys())) < 20):\n",
    "        users_with_inadequate_reviews_counter += 1\n",
    "\n",
    "print(\"Users with inadequate reviews:\", users_with_inadequate_reviews_counter)\n",
    "print(\"Total users:\", len(users_with_reviews))\n",
    "\n",
    "businesses_with_inadequate_reviewers_counter = 0\n",
    "\n",
    "for business_id in (list(businessReviewers.keys())):\n",
    "    if(len(businessReviewers[business_id]) < 50):\n",
    "        businesses_with_inadequate_reviewers_counter += 1\n",
    "\n",
    "print(\"Businesses with inadequate reviewers:\", businesses_with_inadequate_reviewers_counter)\n",
    "print(\"Total businesses:\", len(list(businessReviewers.keys())))"
   ]
  },
  {
   "cell_type": "markdown",
   "metadata": {},
   "source": [
    "Then, I only retain the elements that belong to the two sets."
   ]
  },
  {
   "cell_type": "code",
   "execution_count": 4,
   "metadata": {
    "scrolled": false
   },
   "outputs": [],
   "source": [
    "changes_made = 1 \n",
    "\"\"\" used for the while loop, this variable is set to 1 whenever a user/business is removed from the sets, \n",
    "which means we need to recheck if every user has reviewed at least 20 businesses from the same dataset and\n",
    "if every business has been reviewed at least 50 times from users in the dataset\"\"\"  \n",
    "\n",
    "while(changes_made):\n",
    "    changes_made = 0\n",
    "    users_to_be_removed = []\n",
    "    businesses_to_be_removed = []\n",
    "    \n",
    "    for element in users_with_reviews:\n",
    "        businesses = element[\"businesses\"]\n",
    "        businesses_ids = list(businesses.keys())\n",
    "        if(len(businesses_ids) < 20):\n",
    "            changes_made = 1\n",
    "            users_to_be_removed.append(element)\n",
    "            \n",
    "            for business_id in businesses_ids:\n",
    "                while(element[\"user_id\"] in businessReviewers[business_id]): # need to remove every appearance of this id\n",
    "                    businessReviewers[business_id].remove(element[\"user_id\"])\n",
    "                \n",
    "    for user in users_to_be_removed:\n",
    "        users_with_reviews.remove(user)\n",
    "        \n",
    "    for business_id in list(businessReviewers.keys()):\n",
    "        if(len(businessReviewers[business_id]) < 50):\n",
    "            changes_made = 1\n",
    "            businesses_to_be_removed.append(business_id)\n",
    "            \n",
    "            for element in users_with_reviews:\n",
    "                businesses = element[\"businesses\"]\n",
    "                if(business_id in list(businesses.keys())):\n",
    "                   del businesses[business_id]\n",
    "            \n",
    "    for business_id in businesses_to_be_removed:\n",
    "        del businessReviewers[business_id]"
   ]
  },
  {
   "cell_type": "markdown",
   "metadata": {},
   "source": [
    "I check if every element that I retained meets the requirements."
   ]
  },
  {
   "cell_type": "code",
   "execution_count": 5,
   "metadata": {
    "scrolled": false
   },
   "outputs": [
    {
     "name": "stdout",
     "output_type": "stream",
     "text": [
      "Users with inadequate reviews: 0\n",
      "Total users: 1185\n",
      "Businesses with inadequate reviewers: 0\n",
      "Total businesses: 533\n"
     ]
    }
   ],
   "source": [
    "users_with_inadequate_reviews_counter = 0\n",
    "\n",
    "for i in range(len(users_with_reviews)):\n",
    "    if(len(list(users_with_reviews[i][\"businesses\"].keys())) < 20):\n",
    "        users_with_inadequate_reviews_counter += 1\n",
    "\n",
    "print(\"Users with inadequate reviews:\", users_with_inadequate_reviews_counter)\n",
    "print(\"Total users:\", len(users_with_reviews))\n",
    "\n",
    "businesses_with_inadequate_reviewers_counter = 0\n",
    "\n",
    "for business_id in (list(businessReviewers.keys())):\n",
    "    if(len(businessReviewers[business_id]) < 50):\n",
    "        businesses_with_inadequate_reviewers_counter += 1\n",
    "\n",
    "print(\"Businesses with inadequate reviewers:\", businesses_with_inadequate_reviewers_counter)\n",
    "print(\"Total businesses:\", len(list(businessReviewers.keys())))"
   ]
  },
  {
   "cell_type": "code",
   "execution_count": 6,
   "metadata": {
    "scrolled": false
   },
   "outputs": [
    {
     "name": "stdout",
     "output_type": "stream",
     "text": [
      "{'user_id': 'TZQSUDDcA4ek5gBd6BzcjA', 'businesses': {'qUWqjjjfpB2-4P3He5rsKw': Decimal('4.0'), '6n_MDeYxU1ihB38be9TkVA': Decimal('4.0'), 'SGP1jf6k7spXkgwBlhiUVw': Decimal('5.0'), 'orrhJxM6V1USwccG7MlxmA': Decimal('4.0'), 'fJ-2acaqvWOsujUTAJB-ew': Decimal('4.0'), '9KBd2YPnRxaNjZz23TUd6A': Decimal('5.0'), 'HgL6gGEGoAUBKGrT6BXU4Q': Decimal('2.0'), 'iAxsnFs3qq0Qx1EJ1S9SoQ': Decimal('3.0'), '0a2O150ytxrDjDzXNfRWkA': Decimal('4.0'), '8I5U8OQ06nSxX2y4PPOWzQ': Decimal('4.0'), 'd4P7boUqiA2pR59jOlzYLA': Decimal('4.0'), 'XOkqRJBS6HwTVlrCACAZFw': Decimal('4.0'), 'zA6gnF5aPBGoOm6uIbKt-A': Decimal('4.0'), 'c35qzLN6ItDpVIoj2uQW4Q': Decimal('5.0'), 'jc3p5SFyt9qrrMXt6E13ig': Decimal('4.0'), 'grZEbAsZwWA3yJMwDRl0Nw': Decimal('3.0'), 'vcxvQyAggPqxcHwvJXvjGg': Decimal('5.0'), 'iGEvDk6hsizigmXhDKs2Vg': Decimal('5.0'), '5m2JukTajxMk-qS5W4s-FA': Decimal('3.0'), 'jTZYireK6pnPb6Rni0jygw': Decimal('5.0'), 'oWTn2IzrprsRkPfULtjZtQ': Decimal('4.0'), 'vh1tPEaPioD78QmoqnWXpw': Decimal('4.0'), '6EVBc9kdc3Hd8KZkLVPnGA': Decimal('5.0'), 'j28T6ZuP1mLHe3m36COOpQ': Decimal('3.0'), '_F1_05YYlvePzomZ_NFijA': Decimal('4.0'), 'N93EYZy9R0sdlEvubu94ig': Decimal('5.0'), 'G1Ce_QBHwT_R8Fc2-ARrwQ': Decimal('4.0'), '_cjPEH9wXhKS-HQe_U3M4Q': Decimal('5.0'), 'qaNt4vtVdge_S68DVjw5Jg': Decimal('5.0'), 'T4g4k2OhCTsiqcP-ZXElHQ': Decimal('4.0')}}\n"
     ]
    }
   ],
   "source": [
    "print(users_with_reviews[0])"
   ]
  },
  {
   "cell_type": "markdown",
   "metadata": {},
   "source": [
    "I create the two sets."
   ]
  },
  {
   "cell_type": "code",
   "execution_count": 7,
   "metadata": {
    "scrolled": false
   },
   "outputs": [],
   "source": [
    "U = []\n",
    "B = list(businessReviewers.keys())\n",
    "\n",
    "for i in range(len(users_with_reviews)):\n",
    "    U.append(users_with_reviews[i]['user_id'])"
   ]
  },
  {
   "cell_type": "code",
   "execution_count": 8,
   "metadata": {
    "scrolled": false
   },
   "outputs": [],
   "source": [
    "friendships = [] # a list of every friendship in the U set\n",
    "\n",
    "with open('yelp_academic_dataset_user.json', 'r', encoding = \"UTF-8\") as f:\n",
    "    parser = ijson.parse(f, multiple_values = True)\n",
    "    user_id = \"\"\n",
    "    friends = []\n",
    "    \n",
    "    for prefix, event, value in parser:\n",
    "        if(prefix == \"user_id\"):\n",
    "            user_id = value\n",
    "        if(prefix == \"friends\"):\n",
    "            friends = value.split(\",\")\n",
    "            if(user_id in U):\n",
    "                for friend in friends:\n",
    "                     if((friend in U) and ([user_id, friend] not in friendships) and ([friend, user_id] not in friendships)):\n",
    "                            friendships.append([user_id, friend])\n",
    "            \n",
    "           "
   ]
  },
  {
   "cell_type": "code",
   "execution_count": 9,
   "metadata": {
    "scrolled": true
   },
   "outputs": [
    {
     "name": "stdout",
     "output_type": "stream",
     "text": [
      "234\n",
      "[['MFnXQb1R1IGLL_-W4oflJw', 'djpMXOA1ic5wv3FPtubHNw'], ['xDed_RrQv7xuwOp9hESt9Q', 'Wu0yySWcHQ5tZ_59HNiamg'], ['AhoxHm569hH_PRkoegDwcA', '-hUgrj7Lzir3yLUYrMYQ4g'], ['alUuOskFSl1bODjnce2PpQ', 'o5hk57cqhWnV1sULPvq1jw'], ['MkFySOILZ4yhADa-0tZWZw', 'j6wLUT0ZXi-x0otelYIFpA'], ['Uwu72w77MPox942_GnCS7g', 'zh7csWc3GAUksnShzGp-WQ'], ['j6wLUT0ZXi-x0otelYIFpA', 'rK4I1CJLXCQSZIhigdJcnQ'], ['CxDOIDnH8gp9KXzpBHJYXw', 'Y109iXUmmcVwziHIes48sg'], ['52MlnjkvSLLqKKSRrbrH0w', 'CxDOIDnH8gp9KXzpBHJYXw'], ['9KS6i_CjljjOuBwhX195KQ', '-hUgrj7Lzir3yLUYrMYQ4g'], ['656Y-LLKJMBNUBkuRB4SyQ', 'djpMXOA1ic5wv3FPtubHNw'], ['P2E31XC7SP4v_3hXC2o0Xw', 'Wu0yySWcHQ5tZ_59HNiamg'], ['X5whw8WcB8dVZGZ5vGnSLg', 'TbhyP24zYZqZ2VJZgu1wrg'], ['yT_QCcnq-QGipWWuzIpvtw', '1HFkcIGKY7-e9vCsc8PX5g'], ['8HCEPF0IflyB690Q745fKg', 'YgC5A_oMsF4n7zOcSJ55tA'], ['XDYnGRhaCQteZNFPZonRow', 'DOZtiJTh6ZYsZJcXgPrdBg'], ['HFItzRohDHZvcKDrM6ABZg', 'YRcaNlwQ6XXPFDXWtuMGdA'], ['HAv4iHgSyMS4HKwl5hb98w', 'Uwu72w77MPox942_GnCS7g'], ['-hUgrj7Lzir3yLUYrMYQ4g', 'Wu0yySWcHQ5tZ_59HNiamg'], ['DNlzbI54zCOa4to-vTWBJQ', 'alUuOskFSl1bODjnce2PpQ'], ['3G0J15bNMGEDlR9K_EAFdA', 'YsQeSdrgdme-Yug2hr1HUw'], ['XChCfeJ6Yx2NDJIpIgRhyg', 'BGzavA_ddMr-jGmhArv7fg'], ['Dn8PSKgNszrWjyfu6l9NOw', 'pJYRi9MB06aiuL-w8Ms-Og'], ['6Bai1MguJ1jVOY1wZliCUw', 'BGzavA_ddMr-jGmhArv7fg'], ['V4TPbscN8JsFbEFiwOVBKw', 'Uwu72w77MPox942_GnCS7g'], ['bPUpO-bP6BmAGvSwPyDsng', 'BGzavA_ddMr-jGmhArv7fg'], ['HikPdCQGk1mk5JsPjur7Nw', 'BGzavA_ddMr-jGmhArv7fg'], ['TJpPDsFGNm_MfO6Z3nqfDA', 'AlXx0P-OhUylep0jNi773g'], ['gSLQ-2A7b_d1JmXzN5jFzw', 'BGzavA_ddMr-jGmhArv7fg'], ['4d681x3sCw1Q9ySTyTYXlw', 'alUuOskFSl1bODjnce2PpQ'], ['02AOwJB1g9ETIDGZznyuAw', 'JnPIjvC0cmooNDfsa9BmXg'], ['bPQMtrXUy8dMCJu6SHxxaA', 'TbhyP24zYZqZ2VJZgu1wrg'], ['TaJ3hRYUW9Z82HF0qc4hFQ', 'JnPIjvC0cmooNDfsa9BmXg'], ['6b4yYexmPQglmNdNum531Q', '2VKVhy1SwaixHCeiWglLUQ'], ['Nvpx9fUIAB3oddqgRLEPfg', 'HFItzRohDHZvcKDrM6ABZg'], ['yaWnpONXlvdXbi36aKcznw', 'BGzavA_ddMr-jGmhArv7fg'], ['MHICYB28dgu7nJWfaIsx1A', 'CxDOIDnH8gp9KXzpBHJYXw'], ['NHM8o6MxOKiRasbRS0oswA', 'oLLYmkej2TMHaTbudug5eA'], ['dqKGX-Zz61Cz62S86mHNmg', 'BGzavA_ddMr-jGmhArv7fg'], ['Jt1zgNmwz_jheOSmEsljPQ', 'BpNAPKjA2O6rTu5APobHjQ'], ['mrru6hbeQLvagU4vkfuqmw', 'J56C7Dc9E7Q0mpMTJGW6Qw'], ['q9iOvVsQU7V2_cIHYnKAcw', 'BGzavA_ddMr-jGmhArv7fg'], ['H3tbSSoX5FbCyKxl4Fu6gA', 'TbhyP24zYZqZ2VJZgu1wrg'], ['Yl7OYdHuYmr7K-IW9_ayng', '9W73B44Iw8WslrTNB2CdCg'], ['sccPVgHWRAww1atzaOfOYQ', 'BGzavA_ddMr-jGmhArv7fg'], ['6pDCqee5g6jFB402L15kmg', 'CxDOIDnH8gp9KXzpBHJYXw'], ['LQG9wFTmscbAATp8QWj1hg', 'fY_8CD3eah3fdq2YNCF04g'], ['R1PCyy2n0NLWr1NlTz4fmQ', 'MkFySOILZ4yhADa-0tZWZw'], ['TUu4SppnJ1S3lQ_jTxMpOw', 'alUuOskFSl1bODjnce2PpQ'], ['ouBabHrFc95KNXldoqeIsw', 'Bf-X9oxiiRvzgrwguUWoeg'], ['-tdsrQ3QIkGmmP2n6-DTeg', 'BGzavA_ddMr-jGmhArv7fg'], ['ouS-Douov6w19Xly4aKLHQ', 'aomkMAGFrL-gD6cqQjB4bw'], ['WHmabbfgdSW-JrOU9ePMrA', 'WXlxViTwXHPBvhioljN9PQ'], ['74goFJSWzAwmk69XfPqEag', 'sccPVgHWRAww1atzaOfOYQ'], ['vaN-IGQxpRp6SGBpGePSJw', 'BGzavA_ddMr-jGmhArv7fg'], ['fkMiipV4j_DG5nSoBnZvbg', 'BGzavA_ddMr-jGmhArv7fg'], ['Tc3GAQdAfOW542ROdyCZPg', 'BGzavA_ddMr-jGmhArv7fg'], ['-dbWm5L_Ol2hZeLRoQOK7w', 'o5hk57cqhWnV1sULPvq1jw'], ['ZzA0SBWKSRJA8y5tlszrjQ', 'Q9mA60HnY87C1TW5kjAZ6Q'], ['c7TTh6A7ELnkNThQ5fmWMQ', 'JnPIjvC0cmooNDfsa9BmXg'], ['fxdhXF_ZkHbsQiWlG0nDhA', 'syCxRdiP-0XJenWpJ8L02g'], ['y0Fto7ianqYeO9z-nvxVsQ', 'BGzavA_ddMr-jGmhArv7fg'], ['RsaPge_6kU2UtJgb7drYag', 'R1PCyy2n0NLWr1NlTz4fmQ'], ['PfMDMerIdGet_vDYOV8vDA', 'i8A3MWU33_mtMu3LUMlnWQ'], ['3BxHoPcHUQCYAh4X7zFR-w', 'gXQfe8T1UvMpmR5rcWpGWw'], ['eMcT_F41kJzVtAiTPDzIUA', 'EC5TGpxONfz4IZIjML0DpQ'], ['zsZVg16yjZu5NIiS0ayjrQ', '_RvEDmpbQZulEdAV590QKg'], ['0sOleKBI26BKfpW0SEG6Fw', 'CxDOIDnH8gp9KXzpBHJYXw'], ['JrXC_MDp38BWwLn2SFdNsA', 'Q9mA60HnY87C1TW5kjAZ6Q'], ['VVm-TFCpi9M1-k8ED0l1eA', 'BGzavA_ddMr-jGmhArv7fg'], ['XNs2G2K0LFMmaP1ceUZQfA', 'fYJGKhZK2FZckYWDMdCooA'], ['T2CxKpjXj3Ln2r_wTB0RLg', 'gSLQ-2A7b_d1JmXzN5jFzw'], ['AOmYtTcKe0NHtTgX9nbGSg', 'syCxRdiP-0XJenWpJ8L02g'], ['m5b84-nPPVNLlDtZyVGZ3w', 'WeVkkF5L39888IPPlRhNpg'], ['fYJGKhZK2FZckYWDMdCooA', 'Q9mA60HnY87C1TW5kjAZ6Q'], ['YBT3EKUNN4IP8m4x7sGu1g', 'Bf-X9oxiiRvzgrwguUWoeg'], ['u3mM0u8DokmP2iGpGZsyPQ', 'Q9mA60HnY87C1TW5kjAZ6Q'], ['_GCtk6kjbArSxiPPLlAfMA', 'SxMBY64n31UHPjxzIastUg'], ['i8A3MWU33_mtMu3LUMlnWQ', 'tE0aznXzQo-JRbHHHoFmfw'], ['Vc0SrTF60u0uAI1OgGSPsw', 'OzGlDEQ_vzH8QU9NBRs-pw'], ['vCbYnQ0DdpHb-vGRZVMkxg', 'Q9mA60HnY87C1TW5kjAZ6Q'], ['1fNQRju9gmoCEvbPQBSo7w', 'Q9mA60HnY87C1TW5kjAZ6Q'], ['A9PzIlg1jlezCcpuN9V8UQ', 'WeVkkF5L39888IPPlRhNpg'], ['0LMHrFTQtUoY42AZl1MH6g', 'Q9mA60HnY87C1TW5kjAZ6Q'], ['rLl5jjjUK1crVfzbXoQrTA', 'LmWO_u9v7e1vMJlNykjUoA'], ['0xRAAStEi_dBFLD-1xSMHQ', 'Kj9cFO70zZOQorN0mgeLWA'], ['EiP1OFgs-XGcKZux0OKWIA', 'Gf8Jew6GZHKCk2F6kPZh5Q'], ['_ZsXsLg6rHvCzud00Pgk7w', 'gS4QCL6j_umAyfJXBGAZJQ'], ['jI43jHCXx1R-gg_vYcQWww', 'WeVkkF5L39888IPPlRhNpg'], ['PXZaBTK4M6GK80ZosOUZ9A', 'Q9mA60HnY87C1TW5kjAZ6Q'], ['TK8Nf2vUC_aJgtDlBNAoBA', 'Q9mA60HnY87C1TW5kjAZ6Q'], ['i5jSTSpXJtvM-ExWRttglw', 'pMefTWo6gMdx8WhYSA2u3w'], ['17sjqpbUOOoqh5KHomfhJA', 'Q9mA60HnY87C1TW5kjAZ6Q'], ['hAi-sBBQF43tQqVMmEqVew', 'Bf-X9oxiiRvzgrwguUWoeg'], ['fM9LC2P8jQrQGGsXKccLQw', '3G0J15bNMGEDlR9K_EAFdA'], ['yQelw2nnzrK7Y7XbBX8Pyg', 'Q9mA60HnY87C1TW5kjAZ6Q'], ['IgPXs-Vpd3p_POXau4szFg', 'Y109iXUmmcVwziHIes48sg'], ['PGeiszoVusiv0wTHVdWklA', 'S10Q9h_W-MKyog8IdcCNCQ'], ['Ip7GdJmVv1Ju0fsol7y5mQ', 'Q9mA60HnY87C1TW5kjAZ6Q'], ['U3Y7xT8KZwQilb__FGHeIQ', 'Q9mA60HnY87C1TW5kjAZ6Q'], ['kRSm3Y3DdfIM7etuY4APhg', 'TSpDFBMFx5ug2mvA5lHrPg'], ['cm3_8c_NDhPcpwJQ96Aixw', 'PFNZVn73upq3oZDG2KnAqA'], ['USn-E16UUM45nmOp0rWEfg', 'TZelLnaGbHgaG7LBI6rfgg'], ['ukp5bUGNcvl2OWU5CPG7fw', 'Tjv5bBtJ-Z_CLiY-rheG2g'], ['ULgXqB_bArS3uN4Qo_KvZQ', 'AQ68GdYacVeqqqroAh9eOA'], ['iJCtRAlSvxiUuKlVAnsq0A', 'Q9mA60HnY87C1TW5kjAZ6Q'], ['2K58nkDk7Cp9_dezPeJaSA', 'kqyCQG4c5dwNt2cTkMcvGA'], ['G-9ujgKmc1J2k7HSqXszsw', 'P7EV3yrn1PLHDBX6rF6qIg'], ['J2Aii7GdFK7Caxem6pk7rQ', 'MHd8KD_H3oCcITOg1K2q_g'], ['sWKaLjpYG6VABf23CXDhyA', 'JesJ-LaNfr3pKhL7gWhDrw'], ['FlroRLQ6hWhRApL9tWSO5A', 'B49e2hnBhzp7bwBmCPgdxg'], ['Oxe8DXjBOi6C-cR2w64zOg', '_t3BJzyGaqr9mcDazYiYAQ'], ['99p8Y9nbXRBN3FaRPqPKmw', 'Q9mA60HnY87C1TW5kjAZ6Q'], ['GqLTKz0YsSkX-DTc9oHrBg', 'WeVkkF5L39888IPPlRhNpg'], ['_1UbhUyIKUxBV3pKwPCB9Q', '_zPT9ZmR5-nUfsprzIiRew'], ['0J9mtVJ4_QGsXYVK8qJzOQ', 'j6wLUT0ZXi-x0otelYIFpA'], ['Msev2FHJ8HUNl9hHo9Hl1w', 'sWKaLjpYG6VABf23CXDhyA'], ['kYKSQELBdsV6qmO3f_cl1w', 'Y109iXUmmcVwziHIes48sg'], ['hCHDdEfdv8_pDOqt1r1ccA', 'WeVkkF5L39888IPPlRhNpg'], ['L2QfL9m2TOqJLlGZA5M59A', 'wky4BZxCELi4PZcvb11qYQ'], ['eRDWzHCldd6YXypRECvHYg', '2xVrxhQJUBmOyG4ML77XKw'], ['MHd8KD_H3oCcITOg1K2q_g', 'Q9mA60HnY87C1TW5kjAZ6Q'], ['zDL0fWXO84ex9Ip3Lv1CTQ', 'OZWskTOKCWvYejhu63gFmQ'], ['yK6wyLZ2I66B5-MJcS88xg', 'WeVkkF5L39888IPPlRhNpg'], ['YqMpcRUA0OMw1WNLDGoj-A', 'YOOsYiXGEtGFX_wSeZNcww'], ['G-6X-llgA_qAxGxocykHzQ', '1tVRQliYQ_Xw4YGy52njwg'], ['66R-1FGOg7SoJLtkSXVfuQ', 'orh0HRUNCWuQMt9Iia_osg'], ['4eaCfcwqGxFU_2qvdA_-QQ', 'S10Q9h_W-MKyog8IdcCNCQ'], ['YOOsYiXGEtGFX_wSeZNcww', '0xRAAStEi_dBFLD-1xSMHQ'], ['PwFs1cC2QTXZZ2ee6CPTAw', 'e0AUdCu-jeOkLImiEzlTDg'], ['YuiHy5G_2y_GB3_iHeJToQ', 'Q9mA60HnY87C1TW5kjAZ6Q'], ['wvj0sga8EDk-_KpRDJk1Hg', 'Q9mA60HnY87C1TW5kjAZ6Q'], ['GXVEhnIM1CpiGj9TZehxGw', 'ouS-Douov6w19Xly4aKLHQ'], ['g9MYC0QTNPPmbIdrtdan9A', 'pVj37cy4Y6FfH9YIlEhsZA'], ['e3zojPmUy-2vW48PWn7Fpw', 'sxBKC2jELQe1HaZ7ABevkw'], ['omYTOVB-NEYOaWPOQcBNYw', 'P2E31XC7SP4v_3hXC2o0Xw'], ['qwvqOG9UoClcR4iFnmAPHw', 'WeVkkF5L39888IPPlRhNpg'], ['Du_IfiiJLU0ReeRetapkzA', 'Dy_RhvtedHyYcP3mK5ZKtA'], ['tzTUyZuKFsqKn2L8RrqixA', 'JesJ-LaNfr3pKhL7gWhDrw'], ['WnUDyIE3YWdHcON-i-1MKw', 't-0_us3OTzs_ZhKy6fcamg'], ['_A8CO1V40LPIkXqE-LTYTg', 'jlu4CztcSxrKx56ba1a5AQ'], ['PW_75-OTzdPzQvNrAkNqBA', 'Q9mA60HnY87C1TW5kjAZ6Q'], ['26WgdHfEjWj4BrN-cUNhVw', 'gSO_NFz9zJaddMbldkfOfw'], ['cdpO0F0kGP07FVCRp8RBXw', 'Jt1zgNmwz_jheOSmEsljPQ'], ['eY6TPklHTeOaQt9F8a_SGQ', 'Q9mA60HnY87C1TW5kjAZ6Q'], ['cOhKXszEeOB1YqX_-KiSoA', 'axNHjLGaj_aFtx-yS0q_Dg'], ['1mWig_Kq2rxkmcGvOfpE6A', 'S9no6froaqeisNKc5STyPA'], ['0gtEsazPeHr5rj2IAsZePg', 'JVbqMyicxGWlEVPpyo6gpQ'], ['-HlCe-Ya-4CE2huuEk2_1g', 'AsYMm_O4H-mwmWbmeACDHw'], ['NCBwH9Xx3zNFmH5rk2M_FA', 'gMfkWTxRVZtJAMm_adQKsQ'], ['0l3x4EgoWVYdla3CPpAKag', 'WeVkkF5L39888IPPlRhNpg'], ['hTZb1INhnCG8URaFywVoYQ', 'JesJ-LaNfr3pKhL7gWhDrw'], ['WWkppGMuWn2uGcGpT4naHg', 'ma6206bmu-a_Ja7Iv-yRCw'], ['TkAgUg_BMbBrR_zgNtaqWw', 'B423jsaQkyodGbGyiIGLXA'], ['0IPXId64-RTzDWbTQ7Z_KA', '5sH6Rcahm4R0CdXfSIdOOA'], ['8P2LkzPGV4ID_fE7gJGKGg', 'PRJMe-RgFnCEhyy7tf3DmQ'], ['XV6EkCsNwzzDbTOwSutsTg', 'WeVkkF5L39888IPPlRhNpg'], ['UMVPoZ5YYewEmVZLBPpXSg', 'WeVkkF5L39888IPPlRhNpg'], ['mg0xz_HZvoDtv2zWm1YHZg', 'Q9mA60HnY87C1TW5kjAZ6Q'], ['wdeWt5VqTW26PAeQsVg73g', '3yMtpQ_wV4ZGg6E69uE1PQ'], ['jY4LnRzeoCTOcX4iyJoqAQ', 'GERRIWMslcP4-O6mLErPSQ'], ['d_uSfozaAZR4OpDNa8IiZQ', 'Tf3VaWx72MWrLJiuaEbftw'], ['QlRsVCCytArycuuKSyUBLg', 'JesJ-LaNfr3pKhL7gWhDrw'], ['d3EqggaHzuON2t7k1Z30Fg', 'WeVkkF5L39888IPPlRhNpg'], ['4YyVKh2S5XlxQi9RtNmVew', 'RX1D12KuO7FDcLZR5AOVrQ'], ['mnJvynzRIYptrjyKtEBiTA', 'WeVkkF5L39888IPPlRhNpg'], ['dPE27eCQUt1MMh45joCDCw', 'syCxRdiP-0XJenWpJ8L02g'], ['3RU_U3HdYU3AOs_r9rgoBg', '_1UbhUyIKUxBV3pKwPCB9Q'], ['1ickSuyOWWKWdQpauKmkEw', '66R-1FGOg7SoJLtkSXVfuQ'], ['0uNxhZAFbkalQImzJ6UDUA', 'eOTzkS-by4pVwwCVrifmqg'], ['FSzxEJHeDjEB6Lsotqc1Qg', 'hTZb1INhnCG8URaFywVoYQ'], ['HgCv2lm-GuACRanD7bSqyA', 'eRDWzHCldd6YXypRECvHYg'], ['WrhnuLDFmyu_bB-FLP_gsA', 'Dy_RhvtedHyYcP3mK5ZKtA'], ['HWLr60IBXAy9HD23W3Xmfg', 'wky4BZxCELi4PZcvb11qYQ'], ['MtV1QuQNILQefwWVK-Q-zA', 'crsofThakzXFjJLr9q1mWQ'], ['2e5V6M4GNufEnbGJpVdCjw', 'mOVyk3O18VY5nrUMTZgM1w'], ['qLq9eedYCLaXjcy2XfZQcQ', 'eEgeuz6Gg12HZkFZTfbb8A'], ['LNNQSUtoYEtf0AsGQRwfJQ', 'Erw46-4d-QIzmj1ULQE0YA'], ['jz1_R_ilTsC-Kqc04oa3IA', 'VswgrudhENYcAr8KpE4JOw'], ['3Ml2JhGnCWjb3Migca1O4A', 'Q9mA60HnY87C1TW5kjAZ6Q'], ['pn_flI3EBNugBEYFp9okxQ', '2xVrxhQJUBmOyG4ML77XKw'], ['k6AIp3UhjeTErmR2NZUFYQ', 'CQ67NJigSe5-uBDX3b_CUw'], ['clmrlflES5HrXS-gl_YmrQ', 'X4cwQL_JZZnAUyCbOwz3pw'], ['k34ZlKQwy_ybVlYzeoBlbA', 'S10Q9h_W-MKyog8IdcCNCQ'], ['qntY0ozRmYOzaIaDDyc_6Q', 'ulk3n0JW8tWnQ83C7m8z9A'], ['XbiKsujS_qxU3xsr0xUqmQ', 'eEgeuz6Gg12HZkFZTfbb8A'], ['zYp4lB4JQ1AsxLKKleYpKA', 'XbWP6vAli3waJ0iR_lcjOg'], ['jJDUCuPwVqwjbth3s92whA', 'FejMS4vsD9FIUtiwsmm7mA'], ['7cHcDwzMSJMRaI_pgFNeZQ', 'gnT-tmrXE3BupwTODOREvQ'], ['-KVxkJDSTjtPGsamMDG92Q', 'ma6206bmu-a_Ja7Iv-yRCw'], ['Srv9jOGELiNGIJEqhS5_uQ', '2K58nkDk7Cp9_dezPeJaSA'], ['mwi6OSsC4fdTc7E-LHc0SQ', 'CQ67NJigSe5-uBDX3b_CUw'], ['lMNbGAn2HmHypSJpUsqFNw', 'f_-0PP72bmHQBIMj3K7Dgg'], ['YtcUQ_6xWKLWesEjfF75FQ', 'yL60onlTh1BmJKVLli_K3g'], ['-3PTUP443q6hQESLKSu95w', 'ALxRHdxbefyWvZ-7nbmy7Q'], ['Plqi4pG84PA_vBM8OfDPDg', 'CQ67NJigSe5-uBDX3b_CUw'], ['8Dvr-U6jCZTVGD52LwC2qA', 'CQ67NJigSe5-uBDX3b_CUw'], ['vs8aSP9ArwqAlb0LeCnFeQ', '0IwZb1ePNpSVYcCdMtGoQw'], ['h69CQvbyAD7JVOc5VPz0_g', 'CQ67NJigSe5-uBDX3b_CUw'], ['0Zswwlz4NzUJoG-skyWzIw', 'O3q-nwYZykMmacxjru01Zg'], ['0IwZb1ePNpSVYcCdMtGoQw', '-3PTUP443q6hQESLKSu95w'], ['BI-nIs6O-ZwldOaeK6iKIw', 'G3civyLatxrzYk0lln3MUQ'], ['1RKXN8HnIeelHjWDLJPr2Q', 'JgY2nsKaXhDwOcO0rDhb2A'], ['i8ZU6iDLP5r1dVUCxKVv6g', 'WeVkkF5L39888IPPlRhNpg'], ['2gZrgKYdAx92XvEhpHhWzg', 'WeVkkF5L39888IPPlRhNpg'], ['UYZtygFGveoIHjG1F-IKKA', 'KozoBTm9_mTRxtS7CTl4Ag'], ['Tw43xDZeDrE9X55I-w-Ozg', 'WeVkkF5L39888IPPlRhNpg'], ['lDtXjw6HWOxQT0owoM_1eA', 'YMTcBb6Vj54rd_NuFtb8QQ'], ['5eogH-lsoc30dyK9doJMRw', 'KgFOJnWXxVuz0b-xfo6jjw'], ['VwlyMlqexrfb3tnut812XQ', 'UrfdzamoBt0WW9Ifqy7RIw'], ['Du-5cOij8dvzFKPFtWPklQ', 'DkvaAV7F4Y_rw040k0XGvQ'], ['BwwqlPVsJk1dbUyNwCWB7Q', 'KgFOJnWXxVuz0b-xfo6jjw'], ['2HjBjUrqjjVfopPfghgpqw', 'Q9mA60HnY87C1TW5kjAZ6Q'], ['fP_BHT5kAytx1k0H2Erg2A', 'eEgeuz6Gg12HZkFZTfbb8A'], ['2bSX1ipFgI7AnWHvvjK2Yw', 'LB5ViGU59ww2XRCx803t0w'], ['9-oFF_fYUJEfpm_Gm9fMAQ', 'tU94-C1zpBsfGFvpsJJr2w'], ['QnCibA0ZM7b1rjnhmnKS9Q', 'CQ67NJigSe5-uBDX3b_CUw'], ['yDRw0UY7FhjDAs-q1bvRhg', '3uWCWMWcrn8YSH_qBvlr6w'], ['azZdNaUfeb8J9H1k_aoWJQ', 'XQeuQoE2dtxEmMTp2GyHVg'], ['dA4xLSj4stgmHgblQhz0eQ', 'zZy5Jljx7rEvISiJ2isJpA'], ['WeVkkF5L39888IPPlRhNpg', '_5HFgadpCIaSVINVvse2Kw'], ['5L6jkxWlbBO3YWP6kQ2VrQ', 'g4xr80W9n71ZrFV2JYzJ5g'], ['ii7yC1Md8oyW_a2YJ2bzlA', 'EyVtVVwWmijNMJqBGQlv3Q'], ['xTDG-7GWumY1UqomLFBcWg', 'dGx3ECvJ3rz_isz1U5LJJA'], ['XFJjnqNPp5FwNayTw546Zw', 'PGx4HvY5joEeqXzam6tO7A'], ['ycNTi_hhCevsehL44HbGWg', 'NzlqN1Ca9SW5z780thoiAg'], ['oclwXRB3C1DdwzW9It0Y4w', 'crsofThakzXFjJLr9q1mWQ'], ['d3zFr4UyL1JNI-rZ-90oOQ', 'eEgeuz6Gg12HZkFZTfbb8A'], ['a2c2wJ5Yo7vMVurhCeYEmw', 'WeVkkF5L39888IPPlRhNpg'], ['cdxaD6c6kVti6QNBCh1j7w', 'TY--zvtIzIba2C2aszyNnQ'], ['e_pi3NW9DXbyyXnuO556wA', '3uWCWMWcrn8YSH_qBvlr6w'], ['umXSL7fRu-M6q9wTZRaPxg', 'QSpMW4hJWTYp3IeqVoLwhA'], ['y72ZNlXla1a-A2GVdy2KNQ', 'eZeBuiVZWT7u3SktO7mv9w'], ['QcGSp8mE1khfPpluNo4FuA', 'WeVkkF5L39888IPPlRhNpg']]\n"
     ]
    }
   ],
   "source": [
    "print(len(friendships))\n",
    "for friendship in friendships:\n",
    "    if((friendship[0] not in U) or (friendship[1] not in U)):\n",
    "        print(\"Problem\")\n",
    "print(friendships)"
   ]
  },
  {
   "cell_type": "code",
   "execution_count": 10,
   "metadata": {
    "scrolled": false
   },
   "outputs": [],
   "source": [
    "user_indexes = {} # a dict which maps each user id to an index, starting by 0\n",
    "index_counter = 0\n",
    "\n",
    "for user_id in U:\n",
    "    user_indexes[user_id] = index_counter\n",
    "    index_counter += 1"
   ]
  },
  {
   "cell_type": "markdown",
   "metadata": {},
   "source": [
    "I create and print the graph. It is obvious that mine is not connected. However, I will still work with the biggest connected subgraph."
   ]
  },
  {
   "cell_type": "code",
   "execution_count": 11,
   "metadata": {},
   "outputs": [
    {
     "data": {
      "image/png": "[encoded data removed]",
      "text/plain": [
       "<Figure size 432x288 with 1 Axes>"
      ]
     },
     "metadata": {},
     "output_type": "display_data"
    }
   ],
   "source": [
    "import networkx as nx\n",
    "%matplotlib inline\n",
    "\n",
    "graph_edges = []\n",
    "\n",
    "for friendship in friendships:\n",
    "    graph_edges.append((user_indexes[friendship[0]], user_indexes[friendship[1]]))\n",
    "\n",
    "friendship_graph = nx.Graph()\n",
    "friendship_graph.add_edges_from(graph_edges)\n",
    "nx.draw_networkx(friendship_graph)"
   ]
  },
  {
   "cell_type": "markdown",
   "metadata": {},
   "source": [
    "Extracting the maximum connected subgraph."
   ]
  },
  {
   "cell_type": "code",
   "execution_count": 12,
   "metadata": {},
   "outputs": [
    {
     "name": "stdout",
     "output_type": "stream",
     "text": [
      "Maximum friendship subgraph:\n",
      "Size: 26\n",
      "Nodes: [263, 275, 532, 411, 27, 31, 800, 42, 427, 555, 48, 54, 695, 832, 975, 464, 724, 603, 94, 113, 373, 502, 885, 633, 508, 766]\n",
      "Edges: [(263, 42), (275, 42), (532, 42), (411, 42), (27, 724), (27, 42), (31, 42), (800, 42), (42, 464), (42, 427), (42, 555), (42, 502), (42, 373), (42, 766), (42, 633), (42, 885), (42, 975), (42, 603), (42, 832), (42, 508), (42, 113), (42, 48), (42, 695), (42, 54), (975, 94)]\n"
     ]
    }
   ],
   "source": [
    "connected_subgraphs = [nx.subgraph(friendship_graph,c) for c in nx.connected_components(friendship_graph)]\n",
    "\n",
    "max_subgraph = nx.Graph()\n",
    "max_size = 0\n",
    "\n",
    "for GC in connected_subgraphs:\n",
    "    if(len(GC) > max_size):\n",
    "        max_subgraph = GC\n",
    "        max_size = len(GC)\n",
    "\n",
    "print(\"Maximum friendship subgraph:\")\n",
    "print(\"Size:\" ,len(max_subgraph))\n",
    "print(\"Nodes:\" ,max_subgraph.nodes())\n",
    "print(\"Edges:\" ,max_subgraph.edges())"
   ]
  },
  {
   "cell_type": "code",
   "execution_count": 13,
   "metadata": {},
   "outputs": [
    {
     "data": {
      "image/png": "[encoded data removed]",
      "text/plain": [
       "<Figure size 432x288 with 1 Axes>"
      ]
     },
     "metadata": {},
     "output_type": "display_data"
    }
   ],
   "source": [
    "nx.draw_networkx(max_subgraph)"
   ]
  },
  {
   "cell_type": "markdown",
   "metadata": {},
   "source": [
    "I only keep the ratings of the users that belong to this graph. I comment the structure of the users_with_reviews dictionary for future reference."
   ]
  },
  {
   "cell_type": "code",
   "execution_count": 14,
   "metadata": {},
   "outputs": [],
   "source": [
    "ratings = []\n",
    "# user_with_reviews = {\"user_id\": user_id, \"businesses\": {business_id: value}}\n",
    "\n",
    "for element in users_with_reviews:\n",
    "    \n",
    "    if(user_indexes[element[\"user_id\"]] in max_subgraph.nodes()):\n",
    "        for business_id in list(element[\"businesses\"].keys()):\n",
    "            if(business_id in B):\n",
    "                ratings.append((element[\"user_id\"], business_id, element[\"businesses\"][business_id]))\n"
   ]
  },
  {
   "cell_type": "markdown",
   "metadata": {},
   "source": [
    "I remove a random 5% of the ratings, as asked."
   ]
  },
  {
   "cell_type": "code",
   "execution_count": 15,
   "metadata": {},
   "outputs": [],
   "source": [
    "import random\n",
    "\n",
    "number_of_ratings_to_be_removed = int(0.05 * len(ratings))\n",
    "D_test = []\n",
    "\n",
    "for i in range(number_of_ratings_to_be_removed):\n",
    "    random_choice = random.randint(0, len(ratings) - 1)\n",
    "    \n",
    "    while(ratings[random_choice] in D_test): # we need to make sure we don't remove the same rating again\n",
    "        random_choice = random.randint(0, len(ratings) - 1)\n",
    "    \n",
    "    D_test.append(ratings[random_choice])"
   ]
  },
  {
   "cell_type": "code",
   "execution_count": 16,
   "metadata": {},
   "outputs": [],
   "source": [
    "D_train = []\n",
    "\n",
    "for i in range(len(ratings)):\n",
    "    if(ratings[i] not in D_test):\n",
    "        D_train.append(ratings[i])"
   ]
  },
  {
   "cell_type": "markdown",
   "metadata": {},
   "source": [
    "Below I implement a function that takes as parameter the absorbing nodes and their values (ratings) and computes the predictions using value propagation. This function will be used once for every prediction that must be calculated in the final value propagation function that is implemented in the next cells."
   ]
  },
  {
   "cell_type": "code",
   "execution_count": 17,
   "metadata": {},
   "outputs": [],
   "source": [
    "def calculate_ratings(absorbing_nodes, absorbing_nodes_values):\n",
    "    nodes = max_subgraph.nodes()\n",
    "    old_ratings = {}\n",
    "    ratings = {}\n",
    "    absorbing_counter = 0\n",
    "    \n",
    "    for node in nodes: # ratings initialisation\n",
    "        if(node in absorbing_nodes):\n",
    "            old_ratings[node] = absorbing_nodes_values[absorbing_counter]\n",
    "            absorbing_counter += 1\n",
    "        else:\n",
    "            old_ratings[node] = 1 / len(max_subgraph)\n",
    "        ratings[node] = 0\n",
    "            \n",
    "    eps = 0.000001\n",
    "    \n",
    "    while (True):\n",
    "        for x in nodes:\n",
    "            if(x not in absorbing_nodes):\n",
    "                neighbours_sum = 0\n",
    "\n",
    "                for y in nodes:\n",
    "                    if((x,y) in max_subgraph.edges()):\n",
    "                        neighbours_sum += old_ratings[y]\n",
    "                        \n",
    "                ratings[x] = neighbours_sum / max_subgraph.degree(x)\n",
    "            else:\n",
    "                ratings[x] = old_ratings[x]\n",
    "            \n",
    "        diff = 0\n",
    "        for node in nodes:\n",
    "            diff = max(diff, abs(ratings[node] - old_ratings[node]))\n",
    "        if diff < eps: break\n",
    "\n",
    "        for node in nodes:\n",
    "            old_ratings[node] = ratings[node]\n",
    "            ratings[node] = 0\n",
    "    \n",
    "    return ratings\n",
    "                    "
   ]
  },
  {
   "cell_type": "markdown",
   "metadata": {},
   "source": [
    "The final function and its usage."
   ]
  },
  {
   "cell_type": "code",
   "execution_count": 57,
   "metadata": {
    "scrolled": true
   },
   "outputs": [
    {
     "name": "stdout",
     "output_type": "stream",
     "text": [
      "Removed rating: 3.0 Prediction: 3.9999904231367656\n",
      "Removed rating: 3.0 Prediction: 2.6666606491462863\n",
      "Removed rating: 5.0 Prediction: 0.038461538461538464\n",
      "Removed rating: 5.0 Prediction: 3.9999981109912577\n",
      "Removed rating: 3.0 Prediction: 3.9999776930039386\n",
      "Removed rating: 5.0 Prediction: 3.9999776930039386\n",
      "Removed rating: 3.0 Prediction: 3.9999776930039386\n",
      "Removed rating: 5.0 Prediction: 4.19998917027551\n",
      "Removed rating: 2.0 Prediction: 0.038461538461538464\n",
      "Removed rating: 5.0 Prediction: 4.0\n",
      "Removed rating: 5.0 Prediction: 0.038461538461538464\n",
      "Removed rating: 3.0 Prediction: 0.038461538461538464\n",
      "Removed rating: 5.0 Prediction: 4.249995757411274\n",
      "Removed rating: 4.0 Prediction: 5.0\n",
      "Removed rating: 4.0 Prediction: 0.038461538461538464\n",
      "Removed rating: 4.0 Prediction: 4.571425653533901\n",
      "Removed rating: 3.0 Prediction: 5.0\n",
      "Removed rating: 3.0 Prediction: 2.999999293914208\n",
      "Removed rating: 4.0 Prediction: 1.9999782293210198\n",
      "Removed rating: 5.0 Prediction: 2.99999401352891\n",
      "Removed rating: 5.0 Prediction: 2.9999878886767766\n",
      "Removed rating: 4.0 Prediction: 4.999988817029179\n",
      "Removed rating: 3.0 Prediction: 0.03846153846153844\n",
      "Removed rating: 3.0 Prediction: 4.0\n",
      "Removed rating: 4.0 Prediction: 3.7499960889772894\n",
      "Removed rating: 4.0 Prediction: 2.9999878886767766\n",
      "Removed rating: 5.0 Prediction: 4.999977187646517\n",
      "Removed rating: 4.0 Prediction: 0.038461538461538464\n",
      "Removed rating: 4.0 Prediction: 4.0\n",
      "Removed rating: 3.0 Prediction: 0.038461538461538464\n",
      "Removed rating: 4.0 Prediction: 3.9999776930039386\n",
      "Removed rating: 4.0 Prediction: 3.999977693003938\n",
      "Removed rating: 4.0 Prediction: 0.038461538461538464\n",
      "Removed rating: 3.0 Prediction: 4.0\n",
      "Removed rating: 5.0 Prediction: 4.499989805188208\n",
      "Removed rating: 4.0 Prediction: 3.9999893323338624\n",
      "Removed rating: 1.0 Prediction: 3.0\n",
      "Removed rating: 4.0 Prediction: 3.9999776930039386\n",
      "Removed rating: 3.0 Prediction: 4.0\n",
      "Removed rating: 5.0 Prediction: 3.1999968484578902\n",
      "Removed rating: 4.0 Prediction: 2.999999293914208\n",
      "Removed rating: 5.0 Prediction: 5.0\n",
      "Removed rating: 3.0 Prediction: 3.4999898811727057\n",
      "Removed rating: 3.0 Prediction: 3.0\n",
      "Removed rating: 4.0 Prediction: 3.9999776930039386\n",
      "Removed rating: 3.0 Prediction: 3.999993758229586\n",
      "Removed rating: 3.0 Prediction: 4.0\n",
      "Removed rating: 3.0 Prediction: 2.999975940823844\n",
      "Removed rating: 4.0 Prediction: 4.0\n",
      "Removed rating: 4.0 Prediction: 3.66666019165514\n",
      "Removed rating: 4.0 Prediction: 4.333327863123194\n",
      "Removed rating: 4.0 Prediction: 5.0\n",
      "Removed rating: 4.0 Prediction: 2.6666397470920895\n",
      "Removed rating: 5.0 Prediction: 3.0\n"
     ]
    }
   ],
   "source": [
    "def value_propagation(D_test, D_train):\n",
    "    predictions = []\n",
    "    \n",
    "    for rating in D_test:\n",
    "        b = rating[1] # the business\n",
    "        train_ratings = [] # the ratings in the training collection for business b\n",
    "        \n",
    "        for train_rating in D_train:\n",
    "            if(train_rating[1] == b):\n",
    "                train_ratings.append(train_rating)\n",
    "             \n",
    "        absorbing_nodes = []\n",
    "        absorbing_nodes_values = []\n",
    "        for train_rating in train_ratings:\n",
    "            absorbing_nodes.append(user_indexes[train_rating[0]])\n",
    "            absorbing_nodes_values.append(float(train_rating[2]))\n",
    "            \n",
    "        returned_ratings = calculate_ratings(absorbing_nodes, absorbing_nodes_values)\n",
    "        predictions.append(returned_ratings[user_indexes[rating[0]]])\n",
    "        \n",
    "    return predictions\n",
    "        \n",
    "predictions = value_propagation(D_test, D_train)\n",
    "\n",
    "for i in range(len(D_test)):\n",
    "    print(\"Removed rating:\", D_test[i][2], \"Prediction:\", predictions[i])"
   ]
  },
  {
   "cell_type": "markdown",
   "metadata": {},
   "source": [
    "For the UCF and ICF functions I should construct the global lists and dictionaries they user in order not to change their own structure from the previous sets."
   ]
  },
  {
   "cell_type": "code",
   "execution_count": 38,
   "metadata": {},
   "outputs": [],
   "source": [
    "business_indexes = {}\n",
    "removedUserPositions = []\n",
    "removedBusinessPositions = []\n",
    "removedRatings = []\n",
    "\n",
    "b_counter = 0\n",
    "for business_id in B:\n",
    "    business_indexes[business_id] = b_counter\n",
    "    b_counter += 1\n",
    "    \n",
    "for rating in D_test:\n",
    "    removedUserPositions.append(user_indexes[rating[0]])\n",
    "    removedBusinessPositions.append(business_indexes[rating[1]])\n",
    "    removedRatings.append(float(rating[2]))"
   ]
  },
  {
   "cell_type": "code",
   "execution_count": 39,
   "metadata": {},
   "outputs": [],
   "source": [
    "from scipy import sparse\n",
    "\n",
    "user_indices = []\n",
    "business_indices = []\n",
    "only_ratings = []\n",
    "\n",
    "\n",
    "for rating in ratings:\n",
    "    user_indices.append(user_indexes[rating[0]])\n",
    "    business_indices.append(business_indexes[rating[1]])\n",
    "    only_ratings.append(float(rating[2]))\n",
    "\n",
    "user_indicesNP = np.array(user_indices)\n",
    "business_indicesNP = np.array(business_indices)\n",
    "ratingsNP = np.array(only_ratings)\n",
    "\n",
    "R = sparse.csr_matrix((ratingsNP, (user_indicesNP, business_indicesNP)))"
   ]
  },
  {
   "cell_type": "code",
   "execution_count": 40,
   "metadata": {},
   "outputs": [],
   "source": [
    "business_rated_by = {}\n",
    "\n",
    "for rating in ratings:\n",
    "    if(business_indexes[rating[1]] in list(business_rated_by.keys())):\n",
    "        business_rated_by[business_indexes[rating[1]]].append(user_indexes[rating[0]])\n",
    "    else:\n",
    "        business_rated_by[business_indexes[rating[1]]] = [user_indexes[rating[0]]]\n",
    "    "
   ]
  },
  {
   "cell_type": "code",
   "execution_count": 46,
   "metadata": {},
   "outputs": [],
   "source": [
    "user_has_reviewed = {}\n",
    "\n",
    "for rating in ratings:\n",
    "    if(user_indexes[rating[0]] in list(user_has_reviewed.keys())):\n",
    "        user_has_reviewed[user_indexes[rating[0]]].append(business_indexes[rating[1]])\n",
    "    else:\n",
    "        user_has_reviewed[user_indexes[rating[0]]] = [business_indexes[rating[1]]]"
   ]
  },
  {
   "cell_type": "markdown",
   "metadata": {},
   "source": [
    "From now on I paste the old methods and run them so as to compare the results with the new value propagation method."
   ]
  },
  {
   "cell_type": "code",
   "execution_count": 45,
   "metadata": {
    "scrolled": true
   },
   "outputs": [
    {
     "name": "stdout",
     "output_type": "stream",
     "text": [
      "Removed rating:  3.0  Prediction:  4.0702076693708635\n",
      "Removed rating:  3.0  Prediction:  2.882300865972047\n",
      "Removed rating:  5.0  Prediction:  0\n",
      "Removed rating:  5.0  Prediction:  3.9999999999999996\n",
      "Removed rating:  3.0  Prediction:  4.0\n",
      "Removed rating:  5.0  Prediction:  4.0\n",
      "Removed rating:  3.0  Prediction:  4.0\n",
      "Removed rating:  5.0  Prediction:  4.29245370963001\n",
      "Removed rating:  2.0  Prediction:  0\n",
      "Removed rating:  5.0  Prediction:  4.0\n",
      "Removed rating:  5.0  Prediction:  0\n",
      "Removed rating:  3.0  Prediction:  0\n",
      "Removed rating:  5.0  Prediction:  4.279059587362055\n",
      "Removed rating:  4.0  Prediction:  5.0\n",
      "Removed rating:  4.0  Prediction:  0\n",
      "Removed rating:  4.0  Prediction:  4.481499719473483\n",
      "Removed rating:  3.0  Prediction:  4.741845589564339\n",
      "Removed rating:  3.0  Prediction:  3.0875708815256653\n",
      "Removed rating:  4.0  Prediction:  2.0\n",
      "Removed rating:  5.0  Prediction:  2.6045033764318073\n",
      "Removed rating:  5.0  Prediction:  2.9999999999999996\n",
      "Removed rating:  4.0  Prediction:  5.000000000000001\n",
      "Removed rating:  3.0  Prediction:  0\n",
      "Removed rating:  3.0  Prediction:  4.1322747359379175\n",
      "Removed rating:  4.0  Prediction:  3.709084062424341\n",
      "Removed rating:  4.0  Prediction:  2.8763367506649042\n",
      "Removed rating:  5.0  Prediction:  5.0\n",
      "Removed rating:  4.0  Prediction:  0\n",
      "Removed rating:  4.0  Prediction:  4.0\n",
      "Removed rating:  3.0  Prediction:  0\n",
      "Removed rating:  4.0  Prediction:  4.0\n",
      "Removed rating:  4.0  Prediction:  4.0\n",
      "Removed rating:  4.0  Prediction:  0\n",
      "Removed rating:  3.0  Prediction:  3.3117542539360407\n",
      "Removed rating:  5.0  Prediction:  4.3390712981131525\n",
      "Removed rating:  4.0  Prediction:  4.318837262493943\n",
      "Removed rating:  1.0  Prediction:  3.2224106684006673\n",
      "Removed rating:  4.0  Prediction:  4.0\n",
      "Removed rating:  3.0  Prediction:  3.999999999999999\n",
      "Removed rating:  5.0  Prediction:  3.2209425890391405\n",
      "Removed rating:  4.0  Prediction:  3.850482748611304\n",
      "Removed rating:  5.0  Prediction:  3.664594411538196\n",
      "Removed rating:  3.0  Prediction:  3.479827761629581\n",
      "Removed rating:  3.0  Prediction:  3.144141380708065\n",
      "Removed rating:  4.0  Prediction:  4.0\n",
      "Removed rating:  3.0  Prediction:  3.757504772255622\n",
      "Removed rating:  3.0  Prediction:  3.638373385858939\n",
      "Removed rating:  3.0  Prediction:  2.9999999999999996\n",
      "Removed rating:  4.0  Prediction:  3.8568630448766235\n",
      "Removed rating:  4.0  Prediction:  3.608663756671823\n",
      "Removed rating:  4.0  Prediction:  4.350817690627484\n",
      "Removed rating:  4.0  Prediction:  5.0\n",
      "Removed rating:  4.0  Prediction:  3.042718578057295\n",
      "Removed rating:  5.0  Prediction:  4.0123229141339385\n"
     ]
    },
    {
     "name": "stderr",
     "output_type": "stream",
     "text": [
      "<ipython-input-45-dbb79439433a>:48: RuntimeWarning: invalid value encountered in double_scalars\n",
      "  predicted_rating = np.inner(k_most_similar_similarities, k_most_similar_ratings) / np.sum(k_most_similar_similarities)\n"
     ]
    }
   ],
   "source": [
    "from sklearn import metrics\n",
    "import math\n",
    "\n",
    "#User-Based Collaborative Filtering (UCF)\n",
    "\n",
    "def UCF(k):\n",
    "    similarity_matrix = metrics.pairwise.cosine_similarity(R, Y=None, dense_output=True)\n",
    "    u_pos = -1 # index that will be used to get each user index from the removedUserPositions list\n",
    "\n",
    "    predicted_missing_ratings = []\n",
    "    R_Array = R.toarray()\n",
    "   \n",
    "    for b in removedBusinessPositions:\n",
    "        u_pos += 1\n",
    "        u = removedUserPositions[u_pos]\n",
    "\n",
    "        users_that_reviewed = business_rated_by[b] # we need all the users that reviewed this business for similarity computations\n",
    "\n",
    "        if u in users_that_reviewed:\n",
    "            users_that_reviewed.remove(u) # the same user shouldn't appear twice\n",
    "\n",
    "        \n",
    "        user_similarities = []\n",
    "        user_dict = {}\n",
    "\n",
    "        for user in users_that_reviewed: # get the similarities with each user that reviewed the same business\n",
    "            similarity = similarity_matrix[user, u]\n",
    "            user_similarities.append(similarity)\n",
    "            user_dict[similarity] = user\n",
    "\n",
    "        user_similarities = np.array(user_similarities)\n",
    "        k_most_similar_similarities = []\n",
    "        \n",
    "        if(len(user_similarities) > k):\n",
    "            k_most_similar_similarities = np.partition(user_similarities, -k)[-k:]\n",
    "        else: # in this case we have less than k users that reviewed the same business, so we keep all the users\n",
    "            k_most_similar_similarities = user_similarities\n",
    "        k_most_similar_users = []\n",
    "        k_most_similar_ratings = []\n",
    "\n",
    "        for similarity in k_most_similar_similarities: # store the k most similar users\n",
    "            k_most_similar_users.append(user_dict[similarity])\n",
    "\n",
    "        for user in k_most_similar_users: # store the ratings of those users\n",
    "            k_most_similar_ratings.append(R_Array[user,b])    \n",
    "\n",
    "        k_most_similar_ratings = np.array(k_most_similar_ratings)\n",
    "        predicted_rating = np.inner(k_most_similar_similarities, k_most_similar_ratings) / np.sum(k_most_similar_similarities)\n",
    "        if(not math.isnan(predicted_rating)):\n",
    "            predicted_missing_ratings.append(predicted_rating)\n",
    "        else:\n",
    "            predicted_missing_ratings.append(0)\n",
    "        \n",
    "    return predicted_missing_ratings\n",
    "\n",
    "predictions = UCF(10) # testing the method and printing its results\n",
    "\n",
    "for i in range(len(predictions)):\n",
    "    print(\"Removed rating: \", removedRatings[i], \" Prediction: \", predictions[i] )\n",
    "    "
   ]
  },
  {
   "cell_type": "code",
   "execution_count": 47,
   "metadata": {
    "scrolled": true
   },
   "outputs": [
    {
     "name": "stdout",
     "output_type": "stream",
     "text": [
      "Removed rating:  3.0  Prediction:  3.3997326944598885\n",
      "Removed rating:  3.0  Prediction:  4.816999245912962\n",
      "Removed rating:  5.0  Prediction:  4.184110408623187\n",
      "Removed rating:  5.0  Prediction:  4.058100666845165\n",
      "Removed rating:  3.0  Prediction:  4.373108943650105\n",
      "Removed rating:  5.0  Prediction:  3.392216560546554\n",
      "Removed rating:  3.0  Prediction:  3.0000000000000004\n",
      "Removed rating:  5.0  Prediction:  4.0144080703714\n",
      "Removed rating:  2.0  Prediction:  3.8239597465725823\n",
      "Removed rating:  5.0  Prediction:  4.229277635121901\n",
      "Removed rating:  5.0  Prediction:  4.0\n",
      "Removed rating:  3.0  Prediction:  4.0\n",
      "Removed rating:  5.0  Prediction:  4.770555016510925\n",
      "Removed rating:  4.0  Prediction:  3.8009798009967937\n",
      "Removed rating:  4.0  Prediction:  4.197592063513177\n",
      "Removed rating:  4.0  Prediction:  3.6560852763319125\n",
      "Removed rating:  3.0  Prediction:  3.622658638707163\n",
      "Removed rating:  3.0  Prediction:  3.948193531677208\n",
      "Removed rating:  4.0  Prediction:  4.207925771784096\n",
      "Removed rating:  5.0  Prediction:  4.7520775558767845\n",
      "Removed rating:  5.0  Prediction:  4.428176266683118\n",
      "Removed rating:  4.0  Prediction:  3.7609897750140604\n",
      "Removed rating:  3.0  Prediction:  2.0\n",
      "Removed rating:  3.0  Prediction:  4.0\n",
      "Removed rating:  4.0  Prediction:  3.799571624109467\n",
      "Removed rating:  4.0  Prediction:  3.6059053399437357\n",
      "Removed rating:  5.0  Prediction:  3.943828847857614\n",
      "Removed rating:  4.0  Prediction:  3.8178502680517363\n",
      "Removed rating:  4.0  Prediction:  3.5761336571450864\n",
      "Removed rating:  3.0  Prediction:  2.3903882032022072\n",
      "Removed rating:  4.0  Prediction:  4.386681692270203\n",
      "Removed rating:  4.0  Prediction:  3.637976104822588\n",
      "Removed rating:  4.0  Prediction:  3.0\n",
      "Removed rating:  3.0  Prediction:  3.5871751390178876\n",
      "Removed rating:  5.0  Prediction:  4.445541529980294\n",
      "Removed rating:  4.0  Prediction:  4.197108222806823\n",
      "Removed rating:  1.0  Prediction:  3.0154305780235635\n",
      "Removed rating:  4.0  Prediction:  3.8802223933559556\n",
      "Removed rating:  3.0  Prediction:  3.2665052143621627\n",
      "Removed rating:  5.0  Prediction:  3.3644507643837924\n",
      "Removed rating:  4.0  Prediction:  3.8788624271729195\n",
      "Removed rating:  5.0  Prediction:  3.7867798001638655\n",
      "Removed rating:  3.0  Prediction:  3.551678270618974\n",
      "Removed rating:  3.0  Prediction:  3.8307119984676947\n",
      "Removed rating:  4.0  Prediction:  4.808064633192806\n",
      "Removed rating:  3.0  Prediction:  2.807634248575332\n",
      "Removed rating:  3.0  Prediction:  4.599449128616908\n",
      "Removed rating:  3.0  Prediction:  4.170463037018948\n",
      "Removed rating:  4.0  Prediction:  3.563359701186602\n",
      "Removed rating:  4.0  Prediction:  3.228780004075504\n",
      "Removed rating:  4.0  Prediction:  3.987208144866388\n",
      "Removed rating:  4.0  Prediction:  4.20818161943098\n",
      "Removed rating:  4.0  Prediction:  3.941334565903423\n",
      "Removed rating:  5.0  Prediction:  4.461513858951392\n"
     ]
    }
   ],
   "source": [
    "# Item-Based Collaborative Filtering (ICF)\n",
    "\n",
    "def ICF(k):\n",
    "    R_Transposed = R.transpose()\n",
    "\n",
    "    similarity_transposed_matrix = metrics.pairwise.cosine_similarity(R_Transposed, Y=None, dense_output=True)\n",
    "    predicted_missing_ratings = []\n",
    "\n",
    "    R_Transposed_Array = R_Transposed.toarray()\n",
    "    b_pos = -1\n",
    "\n",
    "    for u in removedUserPositions:\n",
    "        b_pos += 1\n",
    "        b = removedBusinessPositions[b_pos]\n",
    "\n",
    "        reviewed_businesses = user_has_reviewed[u]\n",
    "\n",
    "        if(b in reviewed_businesses):\n",
    "            reviewed_businesses.remove(b)\n",
    "\n",
    "        business_similarities = []\n",
    "        business_dict = {}\n",
    "\n",
    "        for business in reviewed_businesses:\n",
    "            similarity = similarity_transposed_matrix[business, b]\n",
    "            business_similarities.append(similarity)\n",
    "            business_dict[similarity] = business\n",
    "\n",
    "        k_most_similar_similarities = []\n",
    "        \n",
    "        if(len(business_similarities) > k):\n",
    "            business_similarities = np.array(business_similarities)\n",
    "            k_most_similar_similarities = np.partition(business_similarities, -k)[-k:]\n",
    "        else:\n",
    "            k_most_similar_similarities = np.array(business_similarities)\n",
    "            \n",
    "        k_most_similar_businesses = []\n",
    "        k_most_similar_ratings = []\n",
    "\n",
    "        for similarity in k_most_similar_similarities:\n",
    "            k_most_similar_businesses.append(business_dict[similarity])\n",
    "\n",
    "        for business in k_most_similar_businesses:\n",
    "            k_most_similar_ratings.append(R_Transposed_Array[business,u])    \n",
    "\n",
    "        k_most_similar_ratings = np.array(k_most_similar_ratings)\n",
    "\n",
    "        predicted_rating = np.inner(k_most_similar_similarities, k_most_similar_ratings) / np.sum(k_most_similar_similarities)\n",
    "        predicted_missing_ratings.append(predicted_rating)\n",
    "        \n",
    "    return predicted_missing_ratings\n",
    "\n",
    "predictions = ICF(5) # testing the method and printing its results\n",
    "\n",
    "for i in range(len(predictions)):\n",
    "    print(\"Removed rating: \", removedRatings[i], \" Prediction: \", predictions[i] )  "
   ]
  },
  {
   "cell_type": "code",
   "execution_count": 48,
   "metadata": {
    "scrolled": true
   },
   "outputs": [
    {
     "name": "stdout",
     "output_type": "stream",
     "text": [
      "Removed rating:  3.0  Prediction:  3.2421052631578946\n",
      "Removed rating:  3.0  Prediction:  4.251798561151079\n",
      "Removed rating:  5.0  Prediction:  4.454545454545454\n",
      "Removed rating:  5.0  Prediction:  4.0344827586206895\n",
      "Removed rating:  3.0  Prediction:  4.251798561151079\n",
      "Removed rating:  5.0  Prediction:  3.789473684210526\n",
      "Removed rating:  3.0  Prediction:  3.2421052631578946\n",
      "Removed rating:  5.0  Prediction:  4.251798561151079\n",
      "Removed rating:  2.0  Prediction:  3.6\n",
      "Removed rating:  5.0  Prediction:  3.942857142857143\n",
      "Removed rating:  5.0  Prediction:  3.942857142857143\n",
      "Removed rating:  3.0  Prediction:  4.25531914893617\n",
      "Removed rating:  5.0  Prediction:  3.475\n",
      "Removed rating:  4.0  Prediction:  3.2421052631578946\n",
      "Removed rating:  4.0  Prediction:  3.526315789473684\n",
      "Removed rating:  4.0  Prediction:  3.727272727272727\n",
      "Removed rating:  3.0  Prediction:  3.2421052631578946\n",
      "Removed rating:  3.0  Prediction:  4.185185185185185\n",
      "Removed rating:  4.0  Prediction:  3.857142857142857\n",
      "Removed rating:  5.0  Prediction:  4.251798561151079\n",
      "Removed rating:  5.0  Prediction:  4.25531914893617\n",
      "Removed rating:  4.0  Prediction:  3.888888888888889\n",
      "Removed rating:  3.0  Prediction:  4.251798561151079\n",
      "Removed rating:  3.0  Prediction:  3.473684210526316\n",
      "Removed rating:  4.0  Prediction:  4.251798561151079\n",
      "Removed rating:  4.0  Prediction:  4.0344827586206895\n",
      "Removed rating:  5.0  Prediction:  3.7222222222222223\n",
      "Removed rating:  4.0  Prediction:  3.5555555555555554\n",
      "Removed rating:  4.0  Prediction:  3.607142857142857\n",
      "Removed rating:  3.0  Prediction:  3.2421052631578946\n",
      "Removed rating:  4.0  Prediction:  3.966292134831461\n",
      "Removed rating:  4.0  Prediction:  3.857142857142857\n",
      "Removed rating:  4.0  Prediction:  3.2\n",
      "Removed rating:  3.0  Prediction:  3.2421052631578946\n",
      "Removed rating:  5.0  Prediction:  4.45\n",
      "Removed rating:  4.0  Prediction:  4.454545454545454\n",
      "Removed rating:  1.0  Prediction:  3.2\n",
      "Removed rating:  4.0  Prediction:  4.181818181818182\n",
      "Removed rating:  3.0  Prediction:  3.7222222222222223\n",
      "Removed rating:  5.0  Prediction:  3.942857142857143\n",
      "Removed rating:  4.0  Prediction:  4.185185185185185\n",
      "Removed rating:  5.0  Prediction:  3.966292134831461\n",
      "Removed rating:  3.0  Prediction:  3.857142857142857\n",
      "Removed rating:  3.0  Prediction:  3.607142857142857\n",
      "Removed rating:  4.0  Prediction:  3.966292134831461\n",
      "Removed rating:  3.0  Prediction:  3.2421052631578946\n",
      "Removed rating:  3.0  Prediction:  3.942857142857143\n",
      "Removed rating:  3.0  Prediction:  3.727272727272727\n",
      "Removed rating:  4.0  Prediction:  4.25531914893617\n",
      "Removed rating:  4.0  Prediction:  3.2421052631578946\n",
      "Removed rating:  4.0  Prediction:  4.251798561151079\n",
      "Removed rating:  4.0  Prediction:  3.652173913043478\n",
      "Removed rating:  4.0  Prediction:  3.652173913043478\n",
      "Removed rating:  5.0  Prediction:  3.789473684210526\n"
     ]
    }
   ],
   "source": [
    "# User Average (UA)\n",
    "\n",
    "def UA():\n",
    "    predicted_missing_ratings = []\n",
    "    R_Array = R.toarray()\n",
    "\n",
    "    for u in removedUserPositions:\n",
    "        listOfBusinesses = user_has_reviewed[u] # the user_has_reviewed dictionary maps each user index to the business indices of the businesses that the user has rated\n",
    "        user_ratings = []\n",
    "        \n",
    "        for i in range(len(listOfBusinesses)):\n",
    "            user_ratings.append(R_Array[u][listOfBusinesses[i]])\n",
    "            \n",
    "        user_ratings = np.array(user_ratings)\n",
    "        predicted_missing_ratings.append(np.mean(user_ratings))\n",
    "        \n",
    "    return predicted_missing_ratings\n",
    "        \n",
    "predictions = UA() # testing the method\n",
    "\n",
    "for i in range(len(predictions)):\n",
    "    print(\"Removed rating: \", removedRatings[i], \" Prediction: \", predictions[i] ) "
   ]
  },
  {
   "cell_type": "code",
   "execution_count": 50,
   "metadata": {
    "scrolled": true
   },
   "outputs": [
    {
     "name": "stdout",
     "output_type": "stream",
     "text": [
      "Removed rating:  3.0  Prediction:  4.0\n",
      "Removed rating:  3.0  Prediction:  2.6666666666666665\n",
      "Removed rating:  5.0  Prediction:  0\n",
      "Removed rating:  5.0  Prediction:  4.0\n",
      "Removed rating:  3.0  Prediction:  4.0\n",
      "Removed rating:  5.0  Prediction:  4.0\n",
      "Removed rating:  3.0  Prediction:  4.0\n",
      "Removed rating:  5.0  Prediction:  4.333333333333333\n",
      "Removed rating:  2.0  Prediction:  0\n",
      "Removed rating:  5.0  Prediction:  4.0\n",
      "Removed rating:  5.0  Prediction:  0\n",
      "Removed rating:  3.0  Prediction:  0\n",
      "Removed rating:  5.0  Prediction:  4.25\n",
      "Removed rating:  4.0  Prediction:  5.0\n",
      "Removed rating:  4.0  Prediction:  0\n",
      "Removed rating:  4.0  Prediction:  4.25\n",
      "Removed rating:  3.0  Prediction:  4.5\n",
      "Removed rating:  3.0  Prediction:  3.25\n",
      "Removed rating:  4.0  Prediction:  2.0\n",
      "Removed rating:  5.0  Prediction:  3.0\n",
      "Removed rating:  5.0  Prediction:  3.0\n",
      "Removed rating:  4.0  Prediction:  5.0\n",
      "Removed rating:  3.0  Prediction:  0\n",
      "Removed rating:  3.0  Prediction:  4.333333333333333\n",
      "Removed rating:  4.0  Prediction:  3.75\n",
      "Removed rating:  4.0  Prediction:  3.0\n",
      "Removed rating:  5.0  Prediction:  5.0\n",
      "Removed rating:  4.0  Prediction:  0\n",
      "Removed rating:  4.0  Prediction:  4.0\n",
      "Removed rating:  3.0  Prediction:  0\n",
      "Removed rating:  4.0  Prediction:  4.0\n",
      "Removed rating:  4.0  Prediction:  4.0\n",
      "Removed rating:  4.0  Prediction:  0\n",
      "Removed rating:  3.0  Prediction:  3.0\n",
      "Removed rating:  5.0  Prediction:  4.5\n",
      "Removed rating:  4.0  Prediction:  4.0\n",
      "Removed rating:  1.0  Prediction:  3.5\n",
      "Removed rating:  4.0  Prediction:  4.0\n",
      "Removed rating:  3.0  Prediction:  4.0\n",
      "Removed rating:  5.0  Prediction:  3.2\n",
      "Removed rating:  4.0  Prediction:  3.5\n",
      "Removed rating:  5.0  Prediction:  3.3333333333333335\n",
      "Removed rating:  3.0  Prediction:  3.5\n",
      "Removed rating:  3.0  Prediction:  3.25\n",
      "Removed rating:  4.0  Prediction:  4.0\n",
      "Removed rating:  3.0  Prediction:  4.0\n",
      "Removed rating:  3.0  Prediction:  3.5\n",
      "Removed rating:  3.0  Prediction:  3.0\n",
      "Removed rating:  4.0  Prediction:  3.75\n",
      "Removed rating:  4.0  Prediction:  3.6666666666666665\n",
      "Removed rating:  4.0  Prediction:  4.333333333333333\n",
      "Removed rating:  4.0  Prediction:  5.0\n",
      "Removed rating:  4.0  Prediction:  3.0\n",
      "Removed rating:  5.0  Prediction:  4.333333333333333\n"
     ]
    }
   ],
   "source": [
    "# Business Average (BA)\n",
    "\n",
    "def BA():\n",
    "    predicted_missing_ratings = []\n",
    "    R_Array = R.toarray()\n",
    "\n",
    "    for b in removedBusinessPositions:\n",
    "        usersThatReviewed = business_rated_by[b]\n",
    "        business_ratings = []\n",
    "        \n",
    "        for i in range(len(usersThatReviewed)):\n",
    "            business_ratings.append(R_Array[usersThatReviewed[i]][b])\n",
    "        \n",
    "        business_ratings = np.array(business_ratings)\n",
    "        predicted_rating = np.mean(business_ratings)\n",
    "        if(not math.isnan(predicted_rating)):\n",
    "            predicted_missing_ratings.append(predicted_rating)\n",
    "        else:\n",
    "            predicted_missing_ratings.append(0)\n",
    "        \n",
    "    return predicted_missing_ratings\n",
    "\n",
    "predictions = BA() # testing the method\n",
    "\n",
    "for i in range(len(predictions)):\n",
    "    print(\"Removed rating: \", removedRatings[i], \" Prediction: \", predictions[i] ) "
   ]
  },
  {
   "cell_type": "code",
   "execution_count": 51,
   "metadata": {},
   "outputs": [],
   "source": [
    "def calculate_RMSE(removed_ratings, predictions):\n",
    "    n = len(removed_ratings)\n",
    "    the_sum = 0\n",
    "\n",
    "    for i in range(n):\n",
    "        the_sum += (removed_ratings[i] - predictions[i])**2\n",
    "    \n",
    "    return(math.sqrt(the_sum / n))"
   ]
  },
  {
   "cell_type": "code",
   "execution_count": 52,
   "metadata": {},
   "outputs": [
    {
     "name": "stdout",
     "output_type": "stream",
     "text": [
      "0.8212576085380461 1.7919200222820058\n"
     ]
    }
   ],
   "source": [
    "# calculating the (constant) baseline error values for the graphs\n",
    "\n",
    "UA_Error = calculate_RMSE(removedRatings, UA())\n",
    "BA_Error = calculate_RMSE(removedRatings, BA())\n",
    "\n",
    "print(UA_Error, BA_Error)"
   ]
  },
  {
   "cell_type": "code",
   "execution_count": 55,
   "metadata": {},
   "outputs": [
    {
     "name": "stdout",
     "output_type": "stream",
     "text": [
      "[1.80534186769688, 1.7939571897680453, 1.7939571897680453, 1.7939571897680453, 1.7939571897680453, 1.7939571897680453, 1.7939571897680453, 1.7939571897680453, 1.7939571897680453, 1.7939571897680453, 1.7939571897680453, 1.7939571897680453]\n",
      "[1.0274023338281628, 0.8504179441221533, 0.8234346895750159, 0.7813725571707091, 0.7791620675729207, 0.7833152896285623, 0.7801730078805685, 0.7766479248207612, 0.7725137803876815, 0.774452599486689, 0.775624121884959, 0.7760742840592997]\n"
     ]
    },
    {
     "name": "stderr",
     "output_type": "stream",
     "text": [
      "<ipython-input-45-dbb79439433a>:48: RuntimeWarning: invalid value encountered in double_scalars\n",
      "  predicted_rating = np.inner(k_most_similar_similarities, k_most_similar_ratings) / np.sum(k_most_similar_similarities)\n"
     ]
    }
   ],
   "source": [
    "k_values = [1, 5, 10, 20, 30, 40, 50, 60, 70, 80, 90, 100]\n",
    "\n",
    "UCF_RMSE = []\n",
    "ICF_RMSE = []\n",
    "\n",
    "for k in k_values:\n",
    "    UCF_RMSE.append(calculate_RMSE(removedRatings, UCF(k)))\n",
    "    ICF_RMSE.append(calculate_RMSE(removedRatings, ICF(k)))\n",
    "    \n",
    "print(UCF_RMSE)\n",
    "print(ICF_RMSE)"
   ]
  },
  {
   "cell_type": "code",
   "execution_count": 58,
   "metadata": {},
   "outputs": [
    {
     "name": "stdout",
     "output_type": "stream",
     "text": [
      "1.7946303357706679\n"
     ]
    }
   ],
   "source": [
    "value_propagation_error = calculate_RMSE(removedRatings, value_propagation(D_test, D_train))\n",
    "print(value_propagation_error)"
   ]
  },
  {
   "cell_type": "code",
   "execution_count": 63,
   "metadata": {},
   "outputs": [
    {
     "data": {
      "text/plain": [
       "<matplotlib.legend.Legend at 0x20966550>"
      ]
     },
     "execution_count": 63,
     "metadata": {},
     "output_type": "execute_result"
    },
    {
     "data": {
      "image/png": "[encoded data removed]",
      "text/plain": [
       "<Figure size 432x288 with 1 Axes>"
      ]
     },
     "metadata": {
      "needs_background": "light"
     },
     "output_type": "display_data"
    }
   ],
   "source": [
    "import pandas as pd\n",
    "import matplotlib.pyplot as plt\n",
    "\n",
    "UA_RMSE = len(k_values) * [UA_Error]\n",
    "BA_RMSE = len(k_values) * [BA_Error]\n",
    "VP_RMSE = len(k_values) * [value_propagation_error]\n",
    "\n",
    "df = pd.DataFrame({'k_values': k_values,  'UCF_RMSE': UCF_RMSE,\n",
    "                  'ICF_RMSE': ICF_RMSE, 'VP_RMSE': VP_RMSE, 'UA_RMSE': UA_RMSE, 'BA_RMSE': BA_RMSE})\n",
    " \n",
    "# multiple line plot\n",
    "plt.plot( 'k_values', 'UCF_RMSE', data=df, marker='o', markerfacecolor='blue', markersize=9, color='skyblue', linewidth=4, label='UCF')\n",
    "plt.plot( 'k_values', 'ICF_RMSE', data=df, marker='o', markerfacecolor='red', markersize=9, color='lightcoral', linewidth=4, label='ICF')\n",
    "plt.plot( 'k_values', 'VP_RMSE', data=df, marker='o', markerfacecolor='lawngreen', markersize=9, color='palegreen', linewidth=4, label='VP')\n",
    "plt.plot( 'k_values', 'UA_RMSE', data=df, marker='', color='black', linewidth=2, linestyle='dashed', label=\"UA baseline\")\n",
    "plt.plot( 'k_values', 'BA_RMSE', data=df, marker='', color='black', linewidth=2, linestyle='dashed', label=\"BA baseline\")\n",
    "plt.legend()"
   ]
  }
 ],
 "metadata": {
  "kernelspec": {
   "display_name": "Python 3",
   "language": "python",
   "name": "python3"
  },
  "language_info": {
   "codemirror_mode": {
    "name": "ipython",
    "version": 3
   },
   "file_extension": ".py",
   "mimetype": "text/x-python",
   "name": "python",
   "nbconvert_exporter": "python",
   "pygments_lexer": "ipython3",
   "version": "3.8.5"
  }
 },
 "nbformat": 4,
 "nbformat_minor": 4
}
